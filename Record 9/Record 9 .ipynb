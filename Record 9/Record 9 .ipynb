{
 "cells": [
  {
   "cell_type": "markdown",
   "id": "e230baf9-321c-4c72-8ddc-e8dc995d426a",
   "metadata": {},
   "source": [
    "1. Write a Python program to read a file line by line and store it into a list. "
   ]
  },
  {
   "cell_type": "code",
   "execution_count": 22,
   "id": "a61d07a4-07df-4ea8-badd-7a72567216f7",
   "metadata": {},
   "outputs": [
    {
     "name": "stdout",
     "output_type": "stream",
     "text": [
      "['Somewhere over the rainbow Way up high \\n', ' Directed by Shanks\\n']\n"
     ]
    }
   ],
   "source": [
    "f = open(\"ss.txt\",\"r\")\n",
    "print(f.readlines())"
   ]
  },
  {
   "cell_type": "markdown",
   "id": "83fa88a7-e6eb-4c8a-90d3-eb5a0b006d0e",
   "metadata": {},
   "source": [
    "2. Python program to copy odd lines of one file to other."
   ]
  },
  {
   "cell_type": "code",
   "execution_count": 1,
   "id": "32ff3add-3d69-477d-992e-99ba78dab3f1",
   "metadata": {},
   "outputs": [
    {
     "name": "stdin",
     "output_type": "stream",
     "text": [
      "Enter the source file :  ss.txt\n",
      "Enter the destination file : cj.txt\n"
     ]
    },
    {
     "name": "stdout",
     "output_type": "stream",
     "text": [
      "Odd lines have been Written to  ss.txt\n"
     ]
    }
   ],
   "source": [
    "file1 = input(\"Enter the source file : \")\n",
    "file2 = input(\"Enter the destination file :\")\n",
    "\n",
    "f1 = open(\"ss.txt\",\"r\")\n",
    "f2 = open(\"cj.txt\",\"w\")\n",
    "\n",
    "i = 0\n",
    "for line in f1.readlines():\n",
    "    i += 1\n",
    "    if i % 2!= 0:\n",
    "        f2.write(line)\n",
    "\n",
    "f1.close()\n",
    "f2.close()\n",
    "print(\"Odd lines have been Written to \",\"ss.txt\")"
   ]
  },
  {
   "cell_type": "markdown",
   "id": "3f052793-84ab-4f95-9369-7bc962ef37d4",
   "metadata": {},
   "source": [
    "3. Write a python program to read each row each from a given csv file and point a list of Strings."
   ]
  },
  {
   "cell_type": "code",
   "execution_count": 6,
   "id": "192e5e57-642a-4937-93bd-480582e8d59e",
   "metadata": {},
   "outputs": [
    {
     "name": "stdin",
     "output_type": "stream",
     "text": [
      "Enter csv file name:  ex.csv\n"
     ]
    },
    {
     "name": "stdout",
     "output_type": "stream",
     "text": [
      "['1', ' anu', ' sales', ' 22 june 2000', ' 1000']\n",
      "['2', ' arjun', ' mba', ' 2 may 2012', ' 2000']\n",
      "['1', ' anu', ' sales', ' 2 may 2000', ' 1000']\n",
      "['2', ' ash', ' mba', ' 3 june 2010', ' 2000']\n",
      "[]\n"
     ]
    }
   ],
   "source": [
    "import csv\n",
    "\n",
    "fname = input(\"Enter csv file name: \")\n",
    "\n",
    "f1 = open(fname, \"r\")\n",
    "reader = csv.reader(f1)\n",
    "\n",
    "for row in reader:\n",
    "    print(row)\n",
    "\n",
    "f1.close()"
   ]
  },
  {
   "cell_type": "markdown",
   "id": "b299cf1f-b414-4837-8b3a-0f4f911242ac",
   "metadata": {},
   "source": [
    "4. Write a python program to read specific columns of a given csv file and print the content of the columns."
   ]
  },
  {
   "cell_type": "code",
   "execution_count": 20,
   "id": "84af0207-a760-4b04-b15f-a8ee10077116",
   "metadata": {},
   "outputs": [
    {
     "name": "stdin",
     "output_type": "stream",
     "text": [
      "Enter CSV file name:  ex.csv\n",
      "Enter the column indices:  1,4\n"
     ]
    },
    {
     "name": "stdout",
     "output_type": "stream",
     "text": [
      "[' anu', ' 1000']\n",
      "[' arjun', ' 2000']\n",
      "[' anu', ' 1000']\n",
      "[' ash', ' 2000']\n",
      "[]\n"
     ]
    }
   ],
   "source": [
    "import csv\n",
    "\n",
    "fname = input(\"Enter CSV file name: \")\n",
    "col_input = input(\"Enter the column indices: \")\n",
    "col_to_read = [int(index) for index in col_input.split(',')]\n",
    "\n",
    "f1 = open(fname, \"r\")\n",
    "reader = csv.reader(f1)\n",
    "\n",
    "for row in reader:\n",
    "     sel_col = [row[i] for i in col_to_read if i < len(row)]\n",
    "     print(sel_col)"
   ]
  },
  {
   "cell_type": "markdown",
   "id": "122aa87a-e079-451f-9aba-c8d41c9bc581",
   "metadata": {},
   "source": [
    "5. Write a Python program to write a Python dictionary to a csv file. After writing the CSV file\n",
    "read the CSV file and display the content."
   ]
  },
  {
   "cell_type": "code",
   "execution_count": 3,
   "id": "20fdabd8-ab9b-4de9-8b1c-6ae1e349b810",
   "metadata": {},
   "outputs": [
    {
     "name": "stdin",
     "output_type": "stream",
     "text": [
      "Enter Names (separated by space):  anu arjun ash\n",
      "Enter Salaries (separated by space):  1000 3000 2000\n"
     ]
    },
    {
     "name": "stdout",
     "output_type": "stream",
     "text": [
      "Data written to ex.csv\n",
      "['Name', 'Salary']\n",
      "['anu', '1000']\n",
      "['arjun', '3000']\n",
      "['ash', '2000']\n"
     ]
    }
   ],
   "source": [
    "import csv\n",
    "\n",
    "names = input(\"Enter Names (separated by space): \").split()\n",
    "salaries = input(\"Enter Salaries (separated by space): \").split()\n",
    "\n",
    "d = dict(zip(names, salaries))\n",
    "\n",
    "cf = \"ex.csv\"\n",
    "f = open(cf, 'w', newline='')\n",
    "writer = csv.writer(f)\n",
    "writer.writerow([\"Name\", \"Salary\"])\n",
    "\n",
    "for key, value in d.items():\n",
    "    writer.writerow([key, value])\n",
    "f.close()\n",
    "\n",
    "print(f\"Data written to {cf}\")\n",
    "\n",
    "f = open(cf, 'r')\n",
    "reader = csv.reader(f)\n",
    "for row in reader:\n",
    "    print(row)\n",
    "f.close()"
   ]
  },
  {
   "cell_type": "code",
   "execution_count": null,
   "id": "a6272ade-6f47-4436-b7ec-b3e22614ff59",
   "metadata": {},
   "outputs": [],
   "source": []
  }
 ],
 "metadata": {
  "kernelspec": {
   "display_name": "Python 3 (ipykernel)",
   "language": "python",
   "name": "python3"
  },
  "language_info": {
   "codemirror_mode": {
    "name": "ipython",
    "version": 3
   },
   "file_extension": ".py",
   "mimetype": "text/x-python",
   "name": "python",
   "nbconvert_exporter": "python",
   "pygments_lexer": "ipython3",
   "version": "3.11.5"
  }
 },
 "nbformat": 4,
 "nbformat_minor": 5
}
