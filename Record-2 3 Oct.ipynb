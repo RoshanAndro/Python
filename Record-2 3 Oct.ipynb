
{
 "cells": [
  {
   "cell_type": "markdown",
   "id": "25e818e4",
   "metadata": {},
   "source": [
    "1.Convert Celsius to Fahrenheit"
   ]
  },
  {
   "cell_type": "code",
   "execution_count": 1,
   "id": "24288d31",
   "metadata": {},
   "outputs": [
    {
     "name": "stdout",
     "output_type": "stream",
     "text": [
      "Enter the Celsius : 25\n",
      "77.0 Fahrenheit is equal to Celsius 25.0\n"
     ]
    }
   ],
   "source": [
    "celsius = float(input(\"Enter the Celsius : \"))\n",
    "fahren  = celsius * 9/5 + 32\n",
    "print(fahren,\"Fahrenheit is equal to Celsius\",celsius)"
   ]
  },
  {
   "cell_type": "markdown",
   "id": "819f2ab5",
   "metadata": {},
   "source": [
    "2.Convert Kilometer to Miles"
   ]
  },
  {
   "cell_type": "code",
   "execution_count": 2,
   "id": "2d99f43f",
   "metadata": {},
   "outputs": [
    {
     "name": "stdout",
     "output_type": "stream",
     "text": [
      "Enter the Kilometer : 2\n",
      "1.242742 Mile is equal to Kilometer  2.0\n"
     ]
    }
   ],
   "source": [
    "km = float(input(\"Enter the Kilometer : \"))\n",
    "M = km * 0.621371\n",
    "print(M,\"Mile is equal to Kilometer \",km)"
   ]
  },
  {
   "cell_type": "markdown",
   "id": "7344c4eb",
   "metadata": {},
   "source": [
    "3.Find Total,Average and Final of a Three Product"
   ]
  },
  {
   "cell_type": "code",
   "execution_count": 3,
   "id": "5490c79a",
   "metadata": {},
   "outputs": [
    {
     "name": "stdout",
     "output_type": "stream",
     "text": [
      "Enter the  price of Product A : 120\n",
      "Enter the  price of Product A : 80\n",
      "Enter the  price of Product A : 30\n",
      "Total Price =  230.0\n",
      "Final price :195.50\n",
      "Average = 76.67\n",
      "A is more Expensive than Final price : FALSE\n",
      "B is more Expensive than Final price : FALSE \n",
      "C is more Expensive than Final price : FALSE \n",
      "Final price is in the Range of $50 to $200 : TRUE\n"
     ]
    }
   ],
   "source": [
    "A = float(input(\"Enter the  price of Product A : \"))\n",
    "B = float(input(\"Enter the  price of Product A : \"))\n",
    "C = float(input(\"Enter the  price of Product A : \"))\n",
    "TP = A + B + C\n",
    "print(\"Total Price = \",TP)\n",
    "DT = TP * 0.15\n",
    "FP = TP - DT\n",
    "print(f\"Final price :{FP :.2f}\")\n",
    "AVG = TP/3\n",
    "print(f\"Average = {AVG :.2f}\")\n",
    "if A > FP :\n",
    "    print(\"A is more Expensive than Final price : TRUE\")\n",
    "else: \n",
    "    print(\"A is more Expensive than Final price : FALSE\")\n",
    "if B > FP :\n",
    "    print(\"B is more Expensive than Final price : TRUE\")\n",
    "else :\n",
    "    print(\"B is more Expensive than Final price : FALSE \")\n",
    "if C > FP :\n",
    "    print(\"C is more Expensive than Final price : TRUE\")\n",
    "else :\n",
    "    print(\"C is more Expensive than Final price : FALSE \")\n",
    "if FP >= 50 and FP <= 200 :\n",
    "    print(\"Final price is in the Range of $50 to $200 : TRUE\")\n",
    "else :\n",
    "    print(\"Final price is the Range of $50 to $200 : FALSE\")"
   ]
  },
  {
   "cell_type": "code",
   "execution_count": null,
   "id": "5f859398",
   "metadata": {},
   "outputs": [],
   "source": []
  }
 ],
 "metadata": {
  "kernelspec": {
   "display_name": "Python 3 (ipykernel)",
   "language": "python",
   "name": "python3"
  },
  "language_info": {
   "codemirror_mode": {
    "name": "ipython",
    "version": 3
   },
   "file_extension": ".py",
   "mimetype": "text/x-python",
   "name": "python",
   "nbconvert_exporter": "python",
   "pygments_lexer": "ipython3",
   "version": "3.11.5"
  }
 },
 "nbformat": 4,
 "nbformat_minor": 5
}
