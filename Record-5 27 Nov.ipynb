{
 "cells": [
  {
   "cell_type": "markdown",
   "id": "4b93ca6a", 
   "metadata": {},
   "source": [
    "1.Find gcd of 2 numbers"
   ]
  },
  {
   "cell_type": "code",
   "execution_count": 18,
   "id": "cdde834d",
   "metadata": {},
   "outputs": [
    {
     "name": "stdin",
     "output_type": "stream",
     "text": [
      "Enter the 1st Number:  5\n",
      "Enter the 2nd Number:  10\n"
     ]
    },
    {
     "name": "stdout",
     "output_type": "stream",
     "text": [
      "GCD is: 5\n"
     ]
    }
   ],
   "source": [
    "a = int(input(\"Enter the 1st Number: \"))\n",
    "b = int(input(\"Enter the 2nd Number: \"))\n",
    "\n",
    "while b:\n",
    "    a, b = b, a % b\n",
    "\n",
    "print(\"GCD is:\", a)"
   ]
  },
  {
   "cell_type": "markdown",
   "id": "92d685a9",
   "metadata": {},
   "source": [
    "2. List to remove even numbers"
   ]
  },
  {
   "cell_type": "code",
   "execution_count": 2,
   "id": "460ef748",
   "metadata": {},
   "outputs": [
    {
     "name": "stdin",
     "output_type": "stream",
     "text": [
      "Enter a list of integers separated by spaces:  1 2 3 4 5 6\n"
     ]
    },
    {
     "name": "stdout",
     "output_type": "stream",
     "text": [
      "List odd numbers: [1, 3, 5]\n"
     ]
    }
   ],
   "source": [
    "num = input(\"Enter a list of integers separated by spaces: \")\n",
    "num = list(map(int, num.split()))\n",
    "od_no = []\n",
    "for n in num:\n",
    "    if n % 2 != 0:\n",
    "        od_no.append(n)  \n",
    "print(\"List odd numbers:\", od_no)"
   ]
  },
  {
   "cell_type": "markdown",
   "id": "9574d334-ad44-43df-a11e-91178eb6bddd",
   "metadata": {},
   "source": [
    "3. Sum of all items in a list"
   ]
  },
  {
   "cell_type": "code",
   "execution_count": 13,
   "id": "2f7bad34",
   "metadata": {},
   "outputs": [
    {
     "name": "stdin",
     "output_type": "stream",
     "text": [
      "Enter a list of integers separated by spaces:  1 2 3 4 5\n"
     ]
    },
    {
     "name": "stdout",
     "output_type": "stream",
     "text": [
      "Sum of Numbers :  15\n"
     ]
    }
   ],
   "source": [
    "num = input(\"Enter a list of integers separated by spaces: \")\n",
    "num = list(map(int, num.split()))\n",
    "sum_num = 0\n",
    "for n in num:\n",
    "        sum_num += n \n",
    "print(\"Sum of Numbers : \",sum_num)"
   ]
  },
  {
   "cell_type": "markdown",
   "id": "aeb2dafd-fe19-48e7-a0f8-9b6b068b2cd0",
   "metadata": {},
   "source": [
    "4. A list of 4 digit numbers range with all their digit even and perfect square"
   ]
  },
  {
   "cell_type": "code",
   "execution_count": 3,
   "id": "28e3256c-a334-45d4-9e14-10f0d5d8ed69",
   "metadata": {},
   "outputs": [
    {
     "name": "stdin",
     "output_type": "stream",
     "text": [
      "Enter the starting  range:  1000\n",
      "Enter the ending range:  9999\n"
     ]
    },
    {
     "name": "stdout",
     "output_type": "stream",
     "text": [
      "The Square even numbers in the range: \n",
      "4624\n",
      "6084\n",
      "6400\n",
      "8464\n"
     ]
    }
   ],
   "source": [
    "import math\n",
    "\n",
    "start = int(input(\"Enter the starting  range: \"))\n",
    "end = int(input(\"Enter the ending range: \"))\n",
    "\n",
    "print(\"The Square even numbers in the range: \")\n",
    "for num in range(start,end + 1):\n",
    "    if all(int(digit) % 2 == 0 for digit in str(num)):\n",
    "        root = int(math.sqrt(num))\n",
    "        if root * root == num:\n",
    "            print(num)"
   ]
  },
  {
   "cell_type": "markdown",
   "id": "be89c95c-3eb5-416e-b02a-10dd11312f3d",
   "metadata": {},
   "source": [
    "5. Count the number of characters (character frequency) in a string"
   ]
  },
  {
   "cell_type": "code",
   "execution_count": 21,
   "id": "61b9f49b-2a2e-4097-b495-fd28d6e34c99",
   "metadata": {},
   "outputs": [
    {
     "name": "stdin",
     "output_type": "stream",
     "text": [
      "Enter the text :  hello\n"
     ]
    },
    {
     "name": "stdout",
     "output_type": "stream",
     "text": [
      "Character frequency in the string : \n",
      "h : 1\n",
      "e : 1\n",
      "l : 2\n",
      "o : 1\n"
     ]
    }
   ],
   "source": [
    "txt = input(\"Enter the text : \")\n",
    "print(\"Character frequency in the string : \")\n",
    "count = []\n",
    "for i in txt:\n",
    "    if i in count:\n",
    "        continue\n",
    "    count.append(i)\n",
    "    print(i, \":\", txt.count(i))"
   ]
  },
  {
   "cell_type": "markdown",
   "id": "8a826fbb-6ca4-47a7-889d-db9004d3105a",
   "metadata": {},
   "source": [
    "6. Add 'ing' at end of the string .if it already ends with 'ing',then add 'ly'"
   ]
  },
  {
   "cell_type": "code",
   "execution_count": 11,
   "id": "2c55ad2c-1ce8-4cfa-8f4a-73e378ffbdf9",
   "metadata": {},
   "outputs": [
    {
     "name": "stdin",
     "output_type": "stream",
     "text": [
      "Enter the text:  willing\n"
     ]
    },
    {
     "name": "stdout",
     "output_type": "stream",
     "text": [
      "Modified String: willingly"
     ]
    }
   ],
   "source": [
    "txt = input(\"Enter the text: \")\n",
    "print(\"Modified String: \", end=\"\")\n",
    "if txt.endswith('ing'):\n",
    "    print(txt + 'ly', end=\"\")\n",
    "else:\n",
    "    print(txt + 'ing', end=\"\")"
   ]
  },
  {
   "cell_type": "code",
   "execution_count": null,
   "id": "a67f5a20-d746-446a-a5c7-abe275203153",
   "metadata": {},
   "outputs": [],
   "source": []
  }
 ],
 "metadata": {
  "kernelspec": {
   "display_name": "Python 3 (ipykernel)",
   "language": "python",
   "name": "python3"
  },
  "language_info": {
   "codemirror_mode": {
    "name": "ipython",
    "version": 3
   },
   "file_extension": ".py",
   "mimetype": "text/x-python",
   "name": "python",
   "nbconvert_exporter": "python",
   "pygments_lexer": "ipython3",
   "version": "3.11.5"
  }
 },
 "nbformat": 4,
 "nbformat_minor": 5
}
