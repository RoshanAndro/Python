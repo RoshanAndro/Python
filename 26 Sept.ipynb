{
 "cells": [
  {
   "cell_type": "markdown",
   "id": "5cf35e9e",
   "metadata": {},
   "source": [
    "1.Area of a Square"
   ]
  },
  {
   "cell_type": "code",
   "execution_count": 3,
   "id": "83623fc3",
   "metadata": {},
   "outputs": [
    {
     "name": "stdout",
     "output_type": "stream",
     "text": [
      "Enter the sides : 4\n",
      "area =  16\n"
     ]
    }
   ],
   "source": [
    "s = int(input(\"Enter the sides : \"))\n",
    "area = s * s\n",
    "print(\"area = \" ,area)"
   ]
  },
  {
   "cell_type": "markdown",
   "id": "95e51d99",
   "metadata": {},
   "source": [
    "2.Area of right-Angled Traingle"
   ]
  },
  {
   "cell_type": "code",
   "execution_count": 4,
   "id": "5f9b79ba",
   "metadata": {},
   "outputs": [
    {
     "name": "stdout",
     "output_type": "stream",
     "text": [
      "Enter the base values : 4\n",
      "Enter the height values : 4\n",
      "Area of right-angled triangle :  8.0\n"
     ]
    }
   ],
   "source": [
    "b = int(input(\"Enter the base values : \"))\n",
    "h = int(input(\"Enter the height values : \"))\n",
    "area = (b * h)/2\n",
    "print(\"Area of right-angled triangle : \",area)"
   ]
  },
  {
   "cell_type": "markdown",
   "id": "9b1ebd85",
   "metadata": {},
   "source": [
    "3.Greets the user with Exaclamatory Mark"
   ]
  },
  {
   "cell_type": "code",
   "execution_count": 5,
   "id": "e58eb020",
   "metadata": {},
   "outputs": [
    {
     "name": "stdout",
     "output_type": "stream",
     "text": [
      "Enter the Name : Roshan\n",
      "Hello,Roshan!\n"
     ]
    }
   ],
   "source": [
    "n = input(\"Enter the Name : \")\n",
    "print(\"Hello,\" + n + \"!\")"
   ]
  },
  {
   "cell_type": "markdown",
   "id": "5613b2aa",
   "metadata": {},
   "source": [
    "4.Integer number and its prevoius and next number"
   ]
  },
  {
   "cell_type": "code",
   "execution_count": 6,
   "id": "704f6a03",
   "metadata": {},
   "outputs": [
    {
     "name": "stdout",
     "output_type": "stream",
     "text": [
      "Enter the Values : 3\n",
      "Previous number :  2\n",
      "Next number :  4\n"
     ]
    }
   ],
   "source": [
    "numb = int(input(\"Enter the Values : \"))\n",
    "p = numb - 1\n",
    "n = numb + 1\n",
    "print(\"Previous number : \",p)\n",
    "print(\"Next number : \",n)"
   ]
  },
  {
   "cell_type": "markdown",
   "id": "dbbe8361",
   "metadata": {},
   "source": [
    "5.Simple Interset"
   ]
  },
  {
   "cell_type": "code",
   "execution_count": 7,
   "id": "883fc8f1",
   "metadata": {},
   "outputs": [
    {
     "name": "stdout",
     "output_type": "stream",
     "text": [
      "Enter the principle amount : 1000\n",
      "Enter the rate of interest : 10\n",
      "Enter the year of period : 1\n",
      "Simple Interset is :  100.0\n"
     ]
    }
   ],
   "source": [
    "p = float(input(\"Enter the principle amount : \"))\n",
    "r = float(input(\"Enter the rate of interest : \"))\n",
    "t = float(input(\"Enter the year of period : \"))\n",
    "a = (p * r * t)/100\n",
    "print(\"Simple Interset is : \",a)"
   ]
  },
  {
   "cell_type": "code",
   "execution_count": null,
   "id": "bcb0d581",
   "metadata": {},
   "outputs": [],
   "source": []
  }
 ],
 "metadata": {
  "kernelspec": {
   "display_name": "Python 3 (ipykernel)",
   "language": "python",
   "name": "python3"
  },
  "language_info": {
   "codemirror_mode": {
    "name": "ipython",
    "version": 3
   },
   "file_extension": ".py",
   "mimetype": "text/x-python",
   "name": "python",
   "nbconvert_exporter": "python",
   "pygments_lexer": "ipython3",
   "version": "3.11.5"
  }
 },
 "nbformat": 4,
 "nbformat_minor": 5
}

