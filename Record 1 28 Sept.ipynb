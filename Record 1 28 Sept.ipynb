
{
 "cells": [
  {
   "cell_type": "markdown",
   "id": "fc1b819d",
   "metadata": {},
   "source": [
    "1.An integer(n) compute n+nn+nnn"
   ]
  },
  {
   "cell_type": "code",
   "execution_count": 12,
   "id": "d2a7e713",
   "metadata": {},
   "outputs": [
    {
     "name": "stdout",
     "output_type": "stream",
     "text": [
      "Enter the integer : 5\n",
      "5 + 55 + 555 = 615\n"
     ]
    }
   ],
   "source": [
    "n = input(\"Enter the integer : \")\n",
    "r = int(n) + int(n * 2) + int(n * 3)\n",
    "print(f\"{n} + {n * 2} + {n * 3} = {r}\")"
   ]
  },
  {
   "cell_type": "markdown",
   "id": "6a7cb4fb",
   "metadata": {},
   "source": [
    "2.Area of a circle"
   ]
  },
  {
   "cell_type": "code",
   "execution_count": 6,
   "id": "1b38553c",
   "metadata": {},
   "outputs": [
    {
     "name": "stdout",
     "output_type": "stream",
     "text": [
      "Enter the radius : 4\n",
      "Area of a circle =  50.24\n"
     ]
    }
   ],
   "source": [
    "import math\n",
    "r = int(input(\"Enter the radius : \"))\n",
    "area = pi * r * r\n",
    "print(\"Area of a circle = \",area)"
   ]
  },
  {
   "cell_type": "markdown",
   "id": "68d1623d",
   "metadata": {},
   "source": [
    "3.Biggest of three  numbers"
   ]
  },
  {
   "cell_type": "code",
   "execution_count": 11,
   "id": "be386d71",
   "metadata": {},
   "outputs": [
    {
     "name": "stdout",
     "output_type": "stream",
     "text": [
      "Enter the first numbers : 3\n",
      "Enter the second number : 5\n",
      "Enter the third number : 1\n",
      "Biggest Number is :  5.0\n"
     ]
    }
   ],
   "source": [
    "a = float(input(\"Enter the first numbers : \"))\n",
    "b = float(input(\"Enter the second number : \"))\n",
    "c = float(input(\"Enter the third number : \"))\n",
    "print(\"Biggest Number is : \" ,max(a,b,c))"
   ]
  },
  {
   "cell_type": "code",
   "execution_count": null,
   "id": "f5586a6e",
   "metadata": {},
   "outputs": [],
   "source": []
  }
 ],
 "metadata": {
  "kernelspec": {
   "display_name": "Python 3 (ipykernel)",
   "language": "python",
   "name": "python3"
  },
  "language_info": {
   "codemirror_mode": {
    "name": "ipython",
    "version": 3
   },
   "file_extension": ".py",
   "mimetype": "text/x-python",
   "name": "python",
   "nbconvert_exporter": "python",
   "pygments_lexer": "ipython3",
   "version": "3.11.5"
  }
 },
 "nbformat": 4,
 "nbformat_minor": 5
}
