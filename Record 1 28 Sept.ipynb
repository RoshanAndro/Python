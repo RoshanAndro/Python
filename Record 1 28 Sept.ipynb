{
 "cells": [
  {
   "cell_type": "markdown",
   "id": "21336abc",
   "metadata": {},
   "source": [
    "1.An integer(n) compute n+nn+nnn"
   ]
  },
  {
   "cell_type": "code",
   "execution_count": 1,
   "id": "313dd45f",
   "metadata": {},
   "outputs": [
    {
     "name": "stdout",
     "output_type": "stream",
     "text": [
      "Enter the integer : 2\n",
      "Result =  246\n"
     ]
    }
   ],
   "source": [
    "n = input(\"Enter the integer : \")\n",
    "r = int(n) + int(n * 2) + int(n * 3)\n",
    "print(\"Result = \",r)"
   ]
  },
  {
   "cell_type": "markdown",
   "id": "761b7e5c",
   "metadata": {},
   "source": [
    "2.Area of a circle"
   ]
  },
  {
   "cell_type": "code",
   "execution_count": 6,
   "id": "b4bd7ef1",
   "metadata": {},
   "outputs": [
    {
     "name": "stdout",
     "output_type": "stream",
     "text": [
      "Enter the radius : 4\n",
      "Area of a circle =  50.24\n"
     ]
    }
   ],
   "source": [
    "import math\n",
    "r = int(input(\"Enter the radius : \"))\n",
    "area = pi * r * r\n",
    "print(\"Area of a circle = \",area)"
   ]
  },
  {
   "cell_type": "markdown",
   "id": "1ff9fb82",
   "metadata": {},
   "source": [
    "3.Biggest of three  numbers"
   ]
  },
  {
   "cell_type": "code",
   "execution_count": 10,
   "id": "54c48103",
   "metadata": {},
   "outputs": [
    {
     "name": "stdout",
     "output_type": "stream",
     "text": [
      "Enter the first numbers : 3\n",
      "Enter the second number : 5\n",
      "Enter the third number : 1\n",
      "Biggest Number is :  5.0\n"
     ]
    }
   ],
   "source": [
    "a = float(input(\"Enter the first numbers : \"))\n",
    "b = float(input(\"Enter the second number : \"))\n",
    "c = float(input(\"Enter the third number : \"))\n",
    "l1 = [a,b,c]\n",
    "bn = max(l1)\n",
    "print(\"Biggest Number is : \" ,bn)"
   ]
  },
  {
   "cell_type": "code",
   "execution_count": null,
   "id": "d2d2091e",
   "metadata": {},
   "outputs": [],
   "source": []
  }
 ],
 "metadata": {
  "kernelspec": {
   "display_name": "Python 3 (ipykernel)",
   "language": "python",
   "name": "python3"
  },
  "language_info": {
   "codemirror_mode": {
    "name": "ipython",
    "version": 3
   },
   "file_extension": ".py",
   "mimetype": "text/x-python",
   "name": "python",
   "nbconvert_exporter": "python",
   "pygments_lexer": "ipython3",
   "version": "3.11.5"
  }
 },
 "nbformat": 4,
 "nbformat_minor": 5
}
