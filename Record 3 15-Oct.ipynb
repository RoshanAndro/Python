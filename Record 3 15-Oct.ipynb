{
 "cells": [
  {
   "cell_type": "markdown",
   "id": "ba99de30",
   "metadata": {},
   "source": [
    "1.CHANGING THE ORDER OF LETTERS IN STRING"
   ]
  },
  {
   "cell_type": "code",
   "execution_count": 1,
   "id": "a639401c",
   "metadata": {},
   "outputs": [
    {
     "name": "stdout",
     "output_type": "stream",
     "text": [
      "Enter the String : python\n",
      "String is :  nythop\n"
     ]
    }
   ],
   "source": [
    "s = str(input(\"Enter the String : \"))\n",
    "a = s[0]\n",
    "c = s[-1]\n",
    "b = c + s[1 : -1] + a\n",
    "print(\"String is : \",b)"
   ]
  },
  {
   "cell_type": "markdown",
   "id": "40895d64",
   "metadata": {},
   "source": [
    "2.TO GET A NEW STRING FROM TWO STRING AND SWAP FIRST TWO CHARACTERS"
   ]
  },
  {
   "cell_type": "code",
   "execution_count": 5,
   "id": "1329728e",
   "metadata": {},
   "outputs": [
    {
     "name": "stdout",
     "output_type": "stream",
     "text": [
      "Enter the First String :  hello\n",
      "Enter the Second String : python\n",
      "Result String is  hello python\n",
      "New string is :  pyllo hethon\n"
     ]
    }
   ],
   "source": [
    "s1 = str(input(\"Enter the First String :  \"))\n",
    "s2 = str(input(\"Enter the Second String : \"))\n",
    "print(\"Result String is \",s1,s2)\n",
    "a = s1[0:2]\n",
    "b = s2[0:2]\n",
    "s3 = b + s1[2:]\n",
    "s4 = a + s2[2:]\n",
    "print(\"New string is : \",s3,s4)"
   ]
  },
  {
   "cell_type": "markdown",
   "id": "52c166e5",
   "metadata": {},
   "source": [
    "3.REPLACING LETTERS IN A STRING"
   ]
  },
  {
   "cell_type": "code",
   "execution_count": 27,
   "id": "63199dc9",
   "metadata": {},
   "outputs": [
    {
     "name": "stdout",
     "output_type": "stream",
     "text": [
      "Enter the String : onion\n",
      "New string is :  oni$n\n"
     ]
    }
   ],
   "source": [
    "s = str(input(\"Enter the String : \"))\n",
    "a = s[0]\n",
    "b = s[1:]\n",
    "st = b.replace(a,\"$\")\n",
    "ns = s[0] + st\n",
    "print(\"New string is : \",ns)"
   ]
  },
  {
   "cell_type": "markdown",
   "id": "30b7a901",
   "metadata": {},
   "source": [
    "4.PRINT FIRST AND LAST COLORS"
   ]
  },
  {
   "cell_type": "code",
   "execution_count": 30,
   "id": "f68e08ac",
   "metadata": {},
   "outputs": [
    {
     "name": "stdout",
     "output_type": "stream",
     "text": [
      "Enter the Names of Color : red,blue,yellow,white\n",
      "The First Color :  red\n",
      "The Last Color :  white\n"
     ]
    }
   ],
   "source": [
    "s = str(input(\"Enter the Names of Color : \"))\n",
    "p = s.split(\",\")\n",
    "print(\"The First Color : \",p[0])\n",
    "print(\"The Last Color : \",p[-1])"
   ]
  },
  {
   "cell_type": "markdown",
   "id": "b64e0ddd",
   "metadata": {},
   "source": [
    "5.PRINT THE EXTENSION OF FILE"
   ]
  },
  {
   "cell_type": "code",
   "execution_count": 33,
   "id": "3957e8cf",
   "metadata": {},
   "outputs": [
    {
     "name": "stdout",
     "output_type": "stream",
     "text": [
      "Enter the File Name : image.html\n",
      "The Extension file is :  html\n"
     ]
    }
   ],
   "source": [
    "s = str(input(\"Enter the File Name : \"))\n",
    "p = s.split(\".\")\n",
    "print(\"The Extension file is : \",p[-1])"
   ]
  },
  {
   "cell_type": "markdown",
   "id": "aa7aae81",
   "metadata": {},
   "source": [
    "6.3rd ELEMENT FROM THE LAST OF A TUPLE"
   ]
  },
  {
   "cell_type": "code",
   "execution_count": 9,
   "id": "8ebd02fc",
   "metadata": {},
   "outputs": [
    {
     "name": "stdout",
     "output_type": "stream",
     "text": [
      "Enter the numbers : 1,2,3,4,5,6,7\n",
      "The tuple = ('1', '2', '3', '4', '5', '6', '7')\n",
      "3rd element:  3\n",
      "3rd element from the last:  5\n"
     ]
    }
   ],
   "source": [
    "mt = tuple(input(\"Enter the numbers : \").split(\",\"))\n",
    "print(\"The tuple =\",mt)\n",
    "print(\"3rd element: \",mt[2])\n",
    "print(\"3rd element from the last: \",mt[-3])"
   ]
  },
  {
   "cell_type": "markdown",
   "id": "a9522a9b",
   "metadata": {},
   "source": [
    "7.TO PRINT SET-1 COLOR NOT CONTAINED SET-2 COLOR"
   ]
  },
  {
   "cell_type": "code",
   "execution_count": 1,
   "id": "ca60c28f",
   "metadata": {},
   "outputs": [
    {
     "name": "stdout",
     "output_type": "stream",
     "text": [
      "Enter colors for 1st Set : red,green\n",
      "Enter colors for 2nd Set : black,red\n",
      "{'green'}\n"
     ]
    }
   ],
   "source": [
    "f = set(input('Enter colors for 1st Set : ').split(','))\n",
    "s = set(input('Enter colors for 2nd Set : ').split(','))\n",
    "Diff = f - s\n",
    "print(f\"{Diff}\")"
   ]
  },
  {
   "cell_type": "markdown",
   "id": "b80508ae",
   "metadata": {},
   "source": [
    "8.SORT ASCENDING AND DESCENDING ORDER"
   ]
  },
  {
   "cell_type": "code",
   "execution_count": 1,
   "id": "c620bbb7",
   "metadata": {},
   "outputs": [
    {
     "name": "stdout",
     "output_type": "stream",
     "text": [
      "Enter the Name : rn,js,ys,as,lo\n",
      "Ente te rollno : 1,2,3,4,5\n",
      "Ascending_order {'1': 'rn', '2': 'js', '3': 'ys', '4': 'as', '5': 'lo'}\n",
      "Descending_order :  {'5': 'lo', '4': 'as', '3': 'ys', '2': 'js', '1': 'rn'}\n"
     ]
    }
   ],
   "source": [
    "name = input(\"Enter the Name : \").split(\",\")\n",
    "roll = input(\"Ente te rollno : \").split(\",\")\n",
    "d ={roll[0]: name[0], roll[1]: name[1],roll[2]:name[2],roll[3]:name[3],roll[4]:name[4]}\n",
    "print(\"Ascending_order\",d)\n",
    "s = dict(sorted(d.items(),reverse =True))\n",
    "print(\"Descending_order : \",s)"
   ]
  },
  {
   "cell_type": "markdown",
   "id": "8ec22113",
   "metadata": {},
   "source": [
    "9.MERGE TWO DICTIONARIES"
   ]
  },
  {
   "cell_type": "code",
   "execution_count": 6,
   "id": "d79262a7",
   "metadata": {},
   "outputs": [
    {
     "name": "stdout",
     "output_type": "stream",
     "text": [
      "Enter the 1st S_N : Roshan\n",
      "Enter the 2nd S_N : Jaseem\n",
      "Enter the 3rd S_N : Aswin\n",
      "First Dict is :  {'1 S_N': 'Roshan', '2 S_N': 'Jaseem', '3 S_N': 'Aswin'}\n",
      "Enter the 4th S_N: Linto\n",
      "Enter the 5th S_N : Yaseen\n",
      "Second Dict :  {'4 S_N': 'Linto', '5 S_N': 'Yaseen'}\n",
      "Merge Dict :  {'1 S_N': 'Roshan', '2 S_N': 'Jaseem', '3 S_N': 'Aswin', '4 S_N': 'Linto', '5 S_N': 'Yaseen'}\n"
     ]
    }
   ],
   "source": [
    "d1 = {}\n",
    "n1 = input(\"Enter the 1st S_N : \")\n",
    "n2 = input(\"Enter the 2nd S_N : \")\n",
    "n3 = input(\"Enter the 3rd S_N : \")\n",
    "d1 ['1.S_N'] = n1\n",
    "d1 ['2.S_N'] = n2\n",
    "d1 ['3.S_N'] = n3\n",
    "print(\"First Dict is : \",d1)\n",
    "\n",
    "d2 = {}\n",
    "c1 = input(\"Enter the 4th S_N: \")\n",
    "c2 = input(\"Enter the 5th S_N : \")\n",
    "d2 ['4.S_N'] = c1\n",
    "d2 ['5.S_N'] = c2\n",
    "print(\"Second Dict : \",d2)\n",
    "d1.update(d2)\n",
    "print(\"Merge Dict : \",d1)"
   ]
  },
  {
   "cell_type": "markdown",
   "id": "2c952670",
   "metadata": {},
   "source": [
    "10.PRINT ALL EVEN NUMBER(1-25) AND CALCULATE SUM"
   ]
  },
  {
   "cell_type": "code",
   "execution_count": 2,
   "id": "6bcfae19",
   "metadata": {},
   "outputs": [
    {
     "name": "stdout",
     "output_type": "stream",
     "text": [
      "[2, 4, 6, 8, 10, 12, 14, 16, 18, 20, 22, 24]\n",
      "Sum: 156\n"
     ]
    }
   ],
   "source": [
    "en = list(range(2, 26, 2))\n",
    "print(en)\n",
    "ts = sum(en)\n",
    "print(\"Sum:\", ts)"
   ]
  },
  {
   "cell_type": "code",
   "execution_count": null,
   "id": "5eb0dc70",
   "metadata": {},
   "outputs": [],
   "source": []
  }
 ],
 "metadata": {
  "kernelspec": {
   "display_name": "Python 3 (ipykernel)",
   "language": "python",
   "name": "python3"
  },
  "language_info": {
   "codemirror_mode": {
    "name": "ipython",
    "version": 3
   },
   "file_extension": ".py",
   "mimetype": "text/x-python",
   "name": "python",
   "nbconvert_exporter": "python",
   "pygments_lexer": "ipython3",
   "version": "3.11.5"
  }
 },
 "nbformat": 4,
 "nbformat_minor": 5
}
