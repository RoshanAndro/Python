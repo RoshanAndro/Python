{
 "cells": [
  {
   "cell_type": "markdown",
   "id": "ddbbfc1e-e13b-4643-95cb-032e4fe6c6ff",
   "metadata": {},
   "source": [
    "1.Create modules Rectangle, Circle and find area and perimeter of respective figures in each module."
   ]
  },
  {
   "cell_type": "code",
   "execution_count": 1,
   "id": "9005a2b7-8147-4b7c-b18a-fe15d29991ea",
   "metadata": {},
   "outputs": [
    {
     "name": "stdin",
     "output_type": "stream",
     "text": [
      "Enter the length of the rectangle:  5\n",
      "Enter the width of the rectangle:  6\n"
     ]
    },
    {
     "name": "stdout",
     "output_type": "stream",
     "text": [
      "Rectangle Area is:  30.0\n",
      "Rectangle Perimeter is:  22.0\n"
     ]
    },
    {
     "name": "stdin",
     "output_type": "stream",
     "text": [
      "Enter the radius of the circle:  3\n"
     ]
    },
    {
     "name": "stdout",
     "output_type": "stream",
     "text": [
      "Circle Area is:  28.274333882308138\n",
      "Circle Perimeter is:  18.84955592153876\n"
     ]
    }
   ],
   "source": [
    "import rectangle\n",
    "import circle\n",
    "\n",
    "length = float(input(\"Enter the length of the rectangle: \"))\n",
    "width = float(input(\"Enter the width of the rectangle: \"))\n",
    "\n",
    "rec1 = rectangle.rec_area(length, width)\n",
    "print(\"Rectangle Area is: \", rec1)\n",
    "rec2 = rectangle.rec_perimeter(length, width)\n",
    "print(\"Rectangle Perimeter is: \", rec2)\n",
    "\n",
    "radius = float(input(\"Enter the radius of the circle: \"))\n",
    "\n",
    "cir1 = circle.cir_area(radius)\n",
    "print(\"Circle Area is: \", cir1)\n",
    "cir2 = circle.cir_perimeter(radius)\n",
    "print(\"Circle Perimeter is: \", cir2)"
   ]
  },
  {
   "cell_type": "markdown",
   "id": "920b3563-9572-417d-bb85-8a75b157baa1",
   "metadata": {},
   "source": [
    "2.  Create a package graphics with modules rectangle, circle and sub package graphics3D with modules cuboid and sphere."
   ]
  },
  {
   "cell_type": "code",
   "execution_count": 1,
   "id": "e11f751a-7d01-4dea-8803-5d7166499858",
   "metadata": {},
   "outputs": [
    {
     "name": "stdin",
     "output_type": "stream",
     "text": [
      "Enter the length of the rectangle:  6\n",
      "Enter the width of the rectangle:  3\n"
     ]
    },
    {
     "name": "stdout",
     "output_type": "stream",
     "text": [
      "Rectangle Area is: 18.0\n",
      "Rectangle Perimeter is: 18.0\n"
     ]
    },
    {
     "name": "stdin",
     "output_type": "stream",
     "text": [
      "Enter the radius of the circle:  4\n"
     ]
    },
    {
     "name": "stdout",
     "output_type": "stream",
     "text": [
      "Circle Area is: 50.26548245743669\n",
      "Circle Perimeter is: 25.132741228718345\n"
     ]
    },
    {
     "name": "stdin",
     "output_type": "stream",
     "text": [
      "Enter the length of the cuboid:  5\n",
      "Enter the width of the cuboid:  6\n",
      "Enter the height of the cuboid:  7\n"
     ]
    },
    {
     "name": "stdout",
     "output_type": "stream",
     "text": [
      "Cuboid Surface Area is: 214.0\n",
      "Cuboid Volume is: 210.0\n"
     ]
    },
    {
     "name": "stdin",
     "output_type": "stream",
     "text": [
      "Enter the radius of the sphere:  4\n"
     ]
    },
    {
     "name": "stdout",
     "output_type": "stream",
     "text": [
      "Sphere Surface Area is: 201.06192982974676\n",
      "Sphere Volume is: 268.082573106329\n"
     ]
    }
   ],
   "source": [
    "from graphics.rectangle import rec_area, rec_perimeter\n",
    "from graphics.circle import cir_area, cir_perimeter\n",
    "from graphics.graphics3D.cuboid import cuboid_surf_area, cuboid_volume\n",
    "from graphics.graphics3D.sphere import sphere_surf_area, sphere_volume\n",
    "\n",
    "length = float(input(\"Enter the length of the rectangle: \"))\n",
    "width = float(input(\"Enter the width of the rectangle: \"))\n",
    "print(\"Rectangle Area is:\", rec_area(length, width))\n",
    "print(\"Rectangle Perimeter is:\", rec_perimeter(length, width))\n",
    "\n",
    "radius = float(input(\"Enter the radius of the circle: \"))\n",
    "print(\"Circle Area is:\", cir_area(radius))\n",
    "print(\"Circle Perimeter is:\", cir_perimeter(radius))\n",
    "\n",
    "cuboid_length = float(input(\"Enter the length of the cuboid: \"))\n",
    "cuboid_width = float(input(\"Enter the width of the cuboid: \"))\n",
    "cuboid_height = float(input(\"Enter the height of the cuboid: \"))\n",
    "print(\"Cuboid Surface Area is:\", cuboid_surf_area(cuboid_length, cuboid_width, cuboid_height))\n",
    "print(\"Cuboid Volume is:\", cuboid_volume(cuboid_length, cuboid_width, cuboid_height))\n",
    "\n",
    "sphere_radius = float(input(\"Enter the radius of the sphere: \"))\n",
    "print(\"Sphere Surface Area is:\", sphere_surf_area(sphere_radius))\n",
    "print(\"Sphere Volume is:\", sphere_volume(sphere_radius))"
   ]
  },
  {
   "cell_type": "code",
   "execution_count": null,
   "id": "31316faf-21d6-4f0a-b9c5-e2e317538afd",
   "metadata": {},
   "outputs": [],
   "source": []
  }
 ],
 "metadata": {
  "kernelspec": {
   "display_name": "Python 3 (ipykernel)",
   "language": "python",
   "name": "python3"
  },
  "language_info": {
   "codemirror_mode": {
    "name": "ipython",
    "version": 3
   },
   "file_extension": ".py",
   "mimetype": "text/x-python",
   "name": "python",
   "nbconvert_exporter": "python",
   "pygments_lexer": "ipython3",
   "version": "3.11.5"
  }
 },
 "nbformat": 4,
 "nbformat_minor": 5
}
