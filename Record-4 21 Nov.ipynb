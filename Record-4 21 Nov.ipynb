{
 "cells": [
  {
   "cell_type": "markdown",
   "id": "b1f56ae2-7bdc-4e39-8b9b-c1c62860c19e",
   "metadata": {},
   "source": [
    "1. Program to count each word in a line of text"
   ]
  },
  {
   "cell_type": "code",
   "execution_count": 2,
   "id": "baa53db8-71e5-4677-8a73-68d10465894c",
   "metadata": {},
   "outputs": [
    {
     "name": "stdin",
     "output_type": "stream",
     "text": [
      "Enter the line of text :  hello world hello python world\n"
     ]
    },
    {
     "name": "stdout",
     "output_type": "stream",
     "text": [
      "{'world': 2, 'hello': 2, 'python': 1}\n"
     ]
    }
   ],
   "source": [
    "txt = input(\"Enter the line of text : \")\n",
    "wc ={word : txt.split().count(word) for word in set(txt.split())}\n",
    "print(\"Occurrences of each word in line : \",wc)"
   ]
  },
  {
   "cell_type": "markdown",
   "id": "aa656d67-f80d-491e-ade2-9e6742fc93a1",
   "metadata": {},
   "source": [
    "2. Prompt user for list of interger value greater than 100,store 'over'"
   ]
  },
  {
   "cell_type": "code",
   "execution_count": 1,
   "id": "9fb3665b-caa6-4ae5-8cac-01d2efe2c5af",
   "metadata": {},
   "outputs": [
    {
     "name": "stdin",
     "output_type": "stream",
     "text": [
      "Enter a list of integers separated by spaces:  98 101 56 102\n"
     ]
    },
    {
     "name": "stdout",
     "output_type": "stream",
     "text": [
      "Values greater than 100 is 'over' :  [98, 'over', 56, 'over']\n"
     ]
    }
   ],
   "source": [
    "a = input(\"Enter a list of integers separated by spaces: \")\n",
    "int_list = [int(x) for x in a.split()]\n",
    "mod_list = ['over' if x > 100 else x for x in int_list]\n",
    "print(\"Values greater than 100 is 'over' : \",mod_list)"
   ]
  },
  {
   "cell_type": "markdown",
   "id": "b03d3586-ab89-4641-b128-31c6433986da",
   "metadata": {},
   "source": [
    "3. Store list of first names,count 'a' within the list"
   ]
  },
  {
   "cell_type": "code",
   "execution_count": 12,
   "id": "ea1076f4-e73b-47b3-a988-259c7d1259f5",
   "metadata": {},
   "outputs": [
    {
     "name": "stdin",
     "output_type": "stream",
     "text": [
      "Enter first names separated by spaces:  roshan jaseem aswin john\n"
     ]
    },
    {
     "name": "stdout",
     "output_type": "stream",
     "text": [
      "The total of 'a' in the list :   3\n"
     ]
    }
   ],
   "source": [
    "n = input(\"Enter first names separated by spaces: \").split()\n",
    "count_a = sum(name.lower().count('a') for name in n)\n",
    "print(\"The total of 'a' in the list :  \",count_a)"
   ]
  },
  {
   "cell_type": "markdown",
   "id": "7d07c8bc-9180-4f98-b44d-5e4aa9c48b22",
   "metadata": {},
   "source": [
    "4. a) where list are of same length, b)whether sum to same value, c)whether any value in both"
   ]
  },
  {
   "cell_type": "code",
   "execution_count": 26,
   "id": "c97ee7a3-e560-4618-b704-0d08f9ca9df5",
   "metadata": {},
   "outputs": [
    {
     "name": "stdin",
     "output_type": "stream",
     "text": [
      "Enter List 1 (space-separated integers):  1 2 3 4\n",
      "Enter List 2 (space-separated integers):  4 3 2 1\n"
     ]
    },
    {
     "name": "stdout",
     "output_type": "stream",
     "text": [
      "Lists are of same length:  True\n",
      "Lists sum to same value:  True\n",
      "Common values:  [1, 2, 3, 4]\n",
      "Any value occurs in both lists:  True\n"
     ]
    }
   ],
   "source": [
    "l1 = map(int, input(\"Enter List 1 (space-separated integers): \").split())\n",
    "l2 = map(int, input(\"Enter List 2 (space-separated integers): \").split())\n",
    "l1 = list(l1)\n",
    "l2 = list(l2)\n",
    "same_len = len(l1) == len(l2)\n",
    "print(\"Lists are of same length: \", same_len)\n",
    "\n",
    "same_sum = sum(l1) == sum(l2)\n",
    "print(\"Lists sum to same value: \", same_sum)\n",
    "\n",
    "com_val = [value for value in l1 if value in l2]\n",
    "print(\"Common values: \", com_val)\n",
    "print(\"Any value occurs in both lists: \", bool(com_val))"
   ]
  },
  {
   "cell_type": "markdown",
   "id": "d981b93d-f1f1-4671-948b-d804624baf78",
   "metadata": {},
   "source": [
    "5. a) Positive list of numbers from given list of integers"
   ]
  },
  {
   "cell_type": "code",
   "execution_count": 13,
   "id": "b092bb25-1395-44af-8026-23227c92b326",
   "metadata": {},
   "outputs": [
    {
     "name": "stdin",
     "output_type": "stream",
     "text": [
      "Enter a list of numbers separated by spaces:  12 -23 4 0 -5\n"
     ]
    },
    {
     "name": "stdout",
     "output_type": "stream",
     "text": [
      "List of positive numbers: [12, 4]\n"
     ]
    }
   ],
   "source": [
    "u = input(\"Enter a list of numbers separated by spaces: \")\n",
    "l1 = list(map(int, u.split()))\n",
    "nl = [n for n in l1 if n > 0]\n",
    "print(\"List of positive numbers:\", nl)"
   ]
  },
  {
   "cell_type": "markdown",
   "id": "d683e861-9f58-4270-a34f-87d355fc823f",
   "metadata": {},
   "source": [
    "b) Square of N numbers"
   ]
  },
  {
   "cell_type": "code",
   "execution_count": 15,
   "id": "7161fa92-910b-48fb-aac0-f41562380c59",
   "metadata": {},
   "outputs": [
    {
     "name": "stdin",
     "output_type": "stream",
     "text": [
      "Enter a list of numbers separated by spaces:  1 2 3 4 \n"
     ]
    },
    {
     "name": "stdout",
     "output_type": "stream",
     "text": [
      "Square of the numbers :  [1, 4, 9, 16]\n"
     ]
    }
   ],
   "source": [
    "u = input(\"Enter a list of numbers separated by spaces: \")\n",
    "l1 = list(map(int, u.split()))\n",
    "sq = [n**2 for n in l1]\n",
    "print(\"Square of the numbers : \",sq)"
   ]
  },
  {
   "cell_type": "markdown",
   "id": "c1c0cbfa-2a9b-4970-9d00-9f006ec7473c",
   "metadata": {},
   "source": [
    "c) A list of vowels selected from a given word"
   ]
  },
  {
   "cell_type": "code",
   "execution_count": 16,
   "id": "b4a79a0b-8e76-47d2-80a1-e52c8206fc5b",
   "metadata": {},
   "outputs": [
    {
     "name": "stdin",
     "output_type": "stream",
     "text": [
      "Enter a word:  roshan\n"
     ]
    },
    {
     "name": "stdout",
     "output_type": "stream",
     "text": [
      "Vowels in the word: ['o', 'a']\n"
     ]
    }
   ],
   "source": [
    "w = input(\"Enter a word: \")\n",
    "v = \"aeiouAEIOU\"\n",
    "vl = [n for n in w if n in v]\n",
    "print(\"Vowels in the word:\", vl)"
   ]
  },
  {
   "cell_type": "markdown",
   "id": "b3b9f7ae-0c2e-4948-abdc-8d4b0573913c",
   "metadata": {},
   "source": [
    "d) List ordinal value of each element of a word"
   ]
  },
  {
   "cell_type": "code",
   "execution_count": 21,
   "id": "b282af71-e2c4-4ee7-b748-2789d9c26cc0",
   "metadata": {},
   "outputs": [
    {
     "name": "stdin",
     "output_type": "stream",
     "text": [
      "Enter a word:  python\n"
     ]
    },
    {
     "name": "stdout",
     "output_type": "stream",
     "text": [
      "Ordinal values: [112, 121, 116, 104, 111, 110]\n"
     ]
    }
   ],
   "source": [
    "w = input(\"Enter a word: \")\n",
    "ov= [ord(char) for char in w]\n",
    "print(\"Ordinal values:\", ov)"
   ]
  },
  {
   "cell_type": "code",
   "execution_count": null,
   "id": "cb1e3d0b-778b-4f00-86b2-615eea994e2e",
   "metadata": {},
   "outputs": [],
   "source": []
  }
 ],
 "metadata": {
  "kernelspec": {
   "display_name": "Python 3 (ipykernel)",
   "language": "python",
   "name": "python3"
  },
  "language_info": {
   "codemirror_mode": {
    "name": "ipython",
    "version": 3
   },
   "file_extension": ".py",
   "mimetype": "text/x-python",
   "name": "python",
   "nbconvert_exporter": "python",
   "pygments_lexer": "ipython3",
   "version": "3.11.5"
  }
 },
 "nbformat": 4,
 "nbformat_minor": 5
}
