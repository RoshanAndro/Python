{
 "cells": [
  {
   "cell_type": "markdown",
   "id": "9baa9f4e-cef1-4bbf-a421-5aedbb34908e",
   "metadata": {},
   "source": [
    "1. 1. Write a Python program that accepts a list of email addresses and phone numbers from the user, separated by commas, and validates each input using regular expressions."
   ]
  },
  {
   "cell_type": "code",
   "execution_count": 1,
   "id": "494f7784-12d2-4757-b6a1-d6b67445ad9d",
   "metadata": {},
   "outputs": [
    {
     "name": "stdin",
     "output_type": "stream",
     "text": [
      "Enter emails and phone numbers separated by commas:  john.doe@example.com, +91-9876543210, alice@domain, 1234567890, bob@company.org\n"
     ]
    },
    {
     "name": "stdout",
     "output_type": "stream",
     "text": [
      "\n",
      "Valid Emails:\n",
      "- john.doe@example.com\n",
      "- bob@company.org\n",
      "\n",
      "Valid Phone Numbers:\n",
      "- +91-9876543210\n",
      "- 1234567890\n"
     ]
    }
   ],
   "source": [
    "# Regular Expression for Validation\n",
    "\n",
    "import re \n",
    "\n",
    "em_pat = r'^[a-zA-Z0-9._%+-]+@[a-zA-Z0-9.-]+\\.[a-zA-Z]{2,}$'\n",
    "ph_pat = r'^\\+?\\d{0,2}[-\\s]?\\d{10}$'\n",
    "\n",
    "u = input(\"Enter emails and phone numbers separated by commas: \")\n",
    "\n",
    "i = [item.strip() for item in u.split(\",\")]\n",
    "\n",
    "vd_em = []\n",
    "vd_ph_no = []\n",
    "\n",
    "for item in i:\n",
    "    if re.match(em_pat, item):\n",
    "        vd_em.append(item)\n",
    "    elif re.match(ph_pat, item):\n",
    "        vd_ph_no.append(item)\n",
    "\n",
    "print(\"\\nValid Emails:\")\n",
    "for email in vd_em:\n",
    "    print(f\"- {email}\")\n",
    "\n",
    "print(\"\\nValid Phone Numbers:\")\n",
    "for phone in vd_ph_no:\n",
    "    print(f\"- {phone}\")"
   ]
  },
  {
   "cell_type": "code",
   "execution_count": null,
   "id": "626094dd-bb33-43a6-a090-1fe53a0d8f44",
   "metadata": {},
   "outputs": [],
   "source": []
  }
 ],
 "metadata": {
  "kernelspec": {
   "display_name": "Python 3 (ipykernel)",
   "language": "python",
   "name": "python3"
  },
  "language_info": {
   "codemirror_mode": {
    "name": "ipython",
    "version": 3
   },
   "file_extension": ".py",
   "mimetype": "text/x-python",
   "name": "python",
   "nbconvert_exporter": "python",
   "pygments_lexer": "ipython3",
   "version": "3.11.5"
  }
 },
 "nbformat": 4,
 "nbformat_minor": 5
}
