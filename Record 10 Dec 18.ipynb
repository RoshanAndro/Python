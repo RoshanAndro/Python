{
 "cells": [
  {
   "cell_type": "markdown",
   "id": "7e4af515-ee9c-4441-8819-7c86efabcba0",
   "metadata": {},
   "source": [
    "1. Write a program to handle ZeroDivisionError, ValueError which may arise when two numbers are being divided."
   ]
  },
  {
   "cell_type": "code",
   "execution_count": 9,
   "id": "ef499d97-5ceb-45ed-88e5-c6844cba3476",
   "metadata": {},
   "outputs": [
    {
     "name": "stdin",
     "output_type": "stream",
     "text": [
      "enter the numbers :  abc\n"
     ]
    },
    {
     "name": "stdout",
     "output_type": "stream",
     "text": [
      "Error : Invalid input.please enter the numeric values.\n",
      "End of program.\n"
     ]
    }
   ],
   "source": [
    "try :\n",
    "    num1 = int(input(\"enter the numbers : \"))\n",
    "    num2 = int(input(\"enter the numbers : \"))\n",
    "    r = num1 / num2\n",
    "except ZeroDivisionError:\n",
    "    print(\"Error: Division by zero is not allowed.\")\n",
    "\n",
    "except ValueError:\n",
    "    print(\"Error : Invalid input.please enter the numeric values.\")\n",
    "\n",
    "else:\n",
    "    print(f\"Result of Division : {r}\")\n",
    "\n",
    "finally :\n",
    "    print(\"End of program.\")"
   ]
  }
 ],
 "metadata": {
  "kernelspec": {
   "display_name": "Python 3 (ipykernel)",
   "language": "python",
   "name": "python3"
  },
  "language_info": {
   "codemirror_mode": {
    "name": "ipython",
    "version": 3
   },
   "file_extension": ".py",
   "mimetype": "text/x-python",
   "name": "python",
   "nbconvert_exporter": "python",
   "pygments_lexer": "ipython3",
   "version": "3.11.5"
  }
 },
 "nbformat": 4,
 "nbformat_minor": 5
}
