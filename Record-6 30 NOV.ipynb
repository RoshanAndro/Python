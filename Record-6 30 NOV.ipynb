{
 "cells": [
  {
   "cell_type": "markdown",
   "id": "9a56c414-e5d1-4da6-bca2-916a006c0f7f", 
   "metadata": {},
   "source": [
    "1. Display future leap years from current year to a final year"
   ]
  },
  {
   "cell_type": "code",
   "execution_count": 1,
   "id": "b8d359e3-6b23-4b97-b639-b92d2225cc2e",
   "metadata": {},
   "outputs": [
    {
     "name": "stdin",
     "output_type": "stream",
     "text": [
      "Enter the Start Year :  2000\n",
      "Enter the End Year :  2040\n"
     ]
    },
    {
     "name": "stdout",
     "output_type": "stream",
     "text": [
      "Leap year in given range : \n",
      "2004\n",
      "2008\n",
      "2012\n",
      "2016\n",
      "2020\n",
      "2024\n",
      "2028\n",
      "2032\n",
      "2036\n",
      "2040\n"
     ]
    }
   ],
   "source": [
    "def leap(s,e):\n",
    "    print(\"Leap year in given range : \")\n",
    "    for i in range(s, e + 1):\n",
    "        if(i % 100 != 0 and i % 4 == 0):\n",
    "            print(i)\n",
    "\n",
    "s = int(input(\"Enter the Start Year : \"))\n",
    "e = int(input(\"Enter the End Year : \"))\n",
    "leap(s,e)"
   ]
  },
  {
   "cell_type": "markdown",
   "id": "4b100780-3be6-444b-854b-dfb72ec288e2",
   "metadata": {},
   "source": [
    "2. Program to find the factorial of a Number"
   ]
  },
  {
   "cell_type": "code",
   "execution_count": 6,
   "id": "4f3b7ada-7f02-4418-88b8-1e728c358d94",
   "metadata": {},
   "outputs": [
    {
     "name": "stdin",
     "output_type": "stream",
     "text": [
      "Enter a numbers :  5\n"
     ]
    },
    {
     "name": "stdout",
     "output_type": "stream",
     "text": [
      "Factorial is :  120\n"
     ]
    }
   ],
   "source": [
    "def fact(n):\n",
    "    if n == 1:\n",
    "        return 1\n",
    "    return n * fact(n - 1)\n",
    "\n",
    "n = int(input(\"Enter a numbers : \"))\n",
    "print(\"Factorial is : \",fact(n))"
   ]
  },
  {
   "cell_type": "markdown",
   "id": "faf1941f-aa26-4193-a22c-907c4bbfde1f",
   "metadata": {},
   "source": [
    "3. Generate Fibonacci Series of N tems"
   ]
  },
  {
   "cell_type": "code",
   "execution_count": 29,
   "id": "4d9f421b-3b3d-4cef-858d-7eca71ed4985",
   "metadata": {},
   "outputs": [
    {
     "name": "stdin",
     "output_type": "stream",
     "text": [
      "Enter a number:  5\n"
     ]
    },
    {
     "name": "stdout",
     "output_type": "stream",
     "text": [
      "Fibonacci series up to 5 : 0 1 1 2 3 5 \n"
     ]
    }
   ],
   "source": [
    "def fib(n):\n",
    "    a, b = 0, 1\n",
    "    print(\"Fibonacci series up to\", n, \":\", end=' ')\n",
    "    while a <= n:\n",
    "        print(a, end=' ')\n",
    "        a, b = b, a + b\n",
    "    print() \n",
    "\n",
    "n = int(input(\"Enter a number: \"))\n",
    "fib(n)"
   ]
  },
  {
   "cell_type": "markdown",
   "id": "e61ae570-6154-4cbd-8d96-e2e593c4f8a3",
   "metadata": {},
   "source": [
    "4. Accept a list of words and return length of longest word"
   ]
  },
  {
   "cell_type": "code",
   "execution_count": 25,
   "id": "41b3ffb3-5a79-4a23-bdc6-fd0091120b49",
   "metadata": {},
   "outputs": [
    {
     "name": "stdin",
     "output_type": "stream",
     "text": [
      "Enter a list of Word :  hello python world\n"
     ]
    },
    {
     "name": "stdout",
     "output_type": "stream",
     "text": [
      "Longest Word in list is :  python\n"
     ]
    }
   ],
   "source": [
    "def long(s):\n",
    "    return max(s,key=len)\n",
    "\n",
    "s = input(\"Enter a list of Word : \").split()\n",
    "print(\"Longest Word in list is : \",long(s))"
   ]
  },
  {
   "cell_type": "markdown",
   "id": "a66ee41f-c3b9-4eab-b290-65bb868e215c",
   "metadata": {},
   "source": [
    "5. Construct following pattern using nested Loop"
   ]
  },
  {
   "cell_type": "code",
   "execution_count": 16,
   "id": "12ea207c-7d4a-44ed-b1f3-15d227044fe0",
   "metadata": {},
   "outputs": [
    {
     "name": "stdout",
     "output_type": "stream",
     "text": [
      "* \n",
      "* * \n",
      "* * * \n",
      "* * * * \n",
      "* * * * * \n",
      "* * * * \n",
      "* * * \n",
      "* * \n",
      "* \n"
     ]
    }
   ],
   "source": [
    "n = 5\n",
    "\n",
    "for i in range(1, n + 1):\n",
    "    for j in range(i):\n",
    "        print('*', end=' ')\n",
    "    print() \n",
    "\n",
    "\n",
    "for i in range(n - 1, 0, -1):\n",
    "    for j in range(i):\n",
    "        print('*', end=' ')\n",
    "    print() "
   ]
  },
  {
   "cell_type": "markdown",
   "id": "f5ceb881-7ca6-48f9-8859-fd4f95186141",
   "metadata": {},
   "source": [
    "6.Generate all factors of a number"
   ]
  },
  {
   "cell_type": "code",
   "execution_count": 19,
   "id": "db2b60e7-a096-4eed-abb4-36b83798c664",
   "metadata": {},
   "outputs": [
    {
     "name": "stdin",
     "output_type": "stream",
     "text": [
      "Enter a positive integer:  36\n"
     ]
    },
    {
     "name": "stdout",
     "output_type": "stream",
     "text": [
      "Factors of 36: [1, 2, 3, 4, 6, 9, 12, 18, 36]\n"
     ]
    }
   ],
   "source": [
    "def generate_factors(n):\n",
    "    factors = []\n",
    "    for i in range(1, n + 1):\n",
    "        if n % i == 0:\n",
    "            factors.append(i)\n",
    "    return factors\n",
    "\n",
    "number = int(input(\"Enter a positive integer: \"))\n",
    "\n",
    "factors_of_number = generate_factors(number)\n",
    "print(f\"Factors of {number}: {factors_of_number}\")"
   ]
  },
  {
   "cell_type": "markdown",
   "id": "a1dc69de-2f4a-4ac4-afe6-103ead9ecb4e",
   "metadata": {},
   "source": [
    "7.Display the given pyramid with step number accepted from user(Eg: N=4)"
   ]
  },
  {
   "cell_type": "code",
   "execution_count": 22,
   "id": "756db186-aa50-4d8c-bba8-6bf28811343a",
   "metadata": {},
   "outputs": [
    {
     "name": "stdin",
     "output_type": "stream",
     "text": [
      "Enter the number of steps for the pyramid:  4\n"
     ]
    },
    {
     "name": "stdout",
     "output_type": "stream",
     "text": [
      "1   \n",
      "2   4   \n",
      "3   6   9   \n",
      "4   8   12   16   \n"
     ]
    }
   ],
   "source": [
    "def print_pyramid(n):\n",
    "    for i in range(1, n + 1):\n",
    "\n",
    "        for j in range(1, i + 1):\n",
    "            print(i * j, end='   ')  \n",
    "        print() \n",
    "\n",
    "n = int(input(\"Enter the number of steps for the pyramid: \"))\n",
    "print_pyramid(n)"
   ]
  },
  {
   "cell_type": "markdown",
   "id": "6d52f282-02fb-48ca-844b-3444e6bb97a4",
   "metadata": {},
   "source": [
    "8.Write lambda functions to find area of square, rectangle and triangle"
   ]
  },
  {
   "cell_type": "code",
   "execution_count": 23,
   "id": "697ecef5-edf1-4676-be91-7d16546a68a0",
   "metadata": {},
   "outputs": [
    {
     "name": "stdin",
     "output_type": "stream",
     "text": [
      "Enter the side length of the square:  4\n"
     ]
    },
    {
     "name": "stdout",
     "output_type": "stream",
     "text": [
      "Area of square: 16.0\n"
     ]
    },
    {
     "name": "stdin",
     "output_type": "stream",
     "text": [
      "Enter the length of the rectangle:  5\n",
      "Enter the width of the rectangle:  5\n"
     ]
    },
    {
     "name": "stdout",
     "output_type": "stream",
     "text": [
      "Area of rectangle: 25.0\n"
     ]
    },
    {
     "name": "stdin",
     "output_type": "stream",
     "text": [
      "Enter the base of the triangle:  3\n",
      "Enter the height of the triangle:  5\n"
     ]
    },
    {
     "name": "stdout",
     "output_type": "stream",
     "text": [
      "Area of triangle: 7.5\n"
     ]
    }
   ],
   "source": [
    "area_sq = lambda side: side ** 2\n",
    "area_rec = lambda length, width: length * width\n",
    "area_tri = lambda base, height: 0.5 * base * height\n",
    "\n",
    "side = float(input(\"Enter the side length of the square: \"))\n",
    "print(\"Area of square:\", area_sq(side))\n",
    "\n",
    "length = float(input(\"Enter the length of the rectangle: \"))\n",
    "width = float(input(\"Enter the width of the rectangle: \"))\n",
    "print(\"Area of rectangle:\", area_reclength, width))\n",
    "\n",
    "base = float(input(\"Enter the base of the triangle: \"))\n",
    "height = float(input(\"Enter the height of the triangle: \"))\n",
    "print(\"Area of triangle:\", area_tri(base, height))"
   ]
  },
  {
   "cell_type": "code",
   "execution_count": null,
   "id": "4b43fe2c-fcde-4dd7-a76e-27ef077d3a4d",
   "metadata": {},
   "outputs": [],
   "source": []
  }
 ],
 "metadata": {
  "kernelspec": {
   "display_name": "Python 3 (ipykernel)",
   "language": "python",
   "name": "python3"
  },
  "language_info": {
   "codemirror_mode": {
    "name": "ipython",
    "version": 3
   },
   "file_extension": ".py",
   "mimetype": "text/x-python",
   "name": "python",
   "nbconvert_exporter": "python",
   "pygments_lexer": "ipython3",
   "version": "3.11.5"
  }
 },
 "nbformat": 4,
 "nbformat_minor": 5
}
