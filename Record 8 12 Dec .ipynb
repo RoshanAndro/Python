{
 "cells": [
  {
   "cell_type": "markdown",
   "id": "f81b0dcd-fc9f-449d-a93f-a8164b635fc0",
   "metadata": {},
   "source": [
    "1. Create Rectangle class with attributes length and breadth and methods to find area and perimeter. Compare two Rectangle objects by their area. "
   ]
  },
  {
   "cell_type": "code",
   "execution_count": 5,
   "id": "959cb2b1-9e5f-42d6-9b1c-cc7f276e61e2",
   "metadata": {},
   "outputs": [
    {
     "name": "stdin",
     "output_type": "stream",
     "text": [
      "Enter length of Rectangle1:  2\n",
      "Enter breadth of Rectangle1:  3\n",
      "Enter length of Rectangle2:  3\n",
      "Enter breadth of Rectangle2:  4\n"
     ]
    },
    {
     "name": "stdout",
     "output_type": "stream",
     "text": [
      "Rectangle 2 is greater\n"
     ]
    }
   ],
   "source": [
    "class Rectangle:\n",
    "    def get(self, l, b):\n",
    "        self.l = l\n",
    "        self.b = b\n",
    "\n",
    "    def area(self):\n",
    "        return self.l * self.b\n",
    "\n",
    "    def perimeter(self):\n",
    "        return 2 * (self.l + self.b)\n",
    "\n",
    "r1 = Rectangle()\n",
    "r2 = Rectangle()\n",
    "\n",
    "l1 = int(input(\"Enter length of Rectangle1: \"))\n",
    "b1 = int(input(\"Enter breadth of Rectangle1: \"))\n",
    "l2 = int(input(\"Enter length of Rectangle2: \"))\n",
    "b2 = int(input(\"Enter breadth of Rectangle2: \"))\n",
    "\n",
    "r1.get(l1, b1)\n",
    "r2.get(l2, b2)\n",
    "\n",
    "p = r1.area()\n",
    "q = r2.area()\n",
    "\n",
    "if p > q:\n",
    "    print(\"Rectangle 1 is greater\")\n",
    "elif p < q:\n",
    "    print(\"Rectangle 2 is greater\")\n",
    "else:\n",
    "    print(\"Rectangles are equal\")"
   ]
  },
  {
   "cell_type": "markdown",
   "id": "bd73e87d-f7f3-499c-aa8a-9071b52921fd",
   "metadata": {},
   "source": [
    " 2. Create a Bank account with members account number, name, type of account and balance. Write constructor and methods to deposit at the bank and withdraw an amount from the bank. "
   ]
  },
  {
   "cell_type": "code",
   "execution_count": 6,
   "id": "20e27e5c-5ffb-4759-bce3-89db56eba78b",
   "metadata": {},
   "outputs": [
    {
     "name": "stdin",
     "output_type": "stream",
     "text": [
      "Enter name:  Shanks\n",
      "Enter account number:  12345\n",
      "Enter account type:  1\n",
      "Enter initial balance:  100000\n",
      "1. Deposit 2. Withdraw 3. Account info 4. Exit\n",
      "Choose your option:  3\n"
     ]
    },
    {
     "name": "stdout",
     "output_type": "stream",
     "text": [
      "Account holder Name: Shanks\n",
      "Account Number: 12345\n",
      "Account Type: 1\n",
      "Account Balance: 100000\n"
     ]
    },
    {
     "name": "stdin",
     "output_type": "stream",
     "text": [
      "1. Deposit 2. Withdraw 3. Account info 4. Exit\n",
      "Choose your option:  4\n"
     ]
    },
    {
     "name": "stdout",
     "output_type": "stream",
     "text": [
      "Exiting...\n"
     ]
    }
   ],
   "source": [
    "class BankAccount:\n",
    "    def __init__(self, a_name, a_no, a_type, a_balance):\n",
    "        self.acc_name = a_name\n",
    "        self.acc_no = a_no\n",
    "        self.acc_type = a_type\n",
    "        self.acc_balance = a_balance\n",
    "\n",
    "    def deposit(self, a_deposit):\n",
    "        print(\"Initial balance:\", self.acc_balance)\n",
    "        self.acc_balance += a_deposit\n",
    "        print(f\"{a_deposit} is deposited\")\n",
    "        print(\"Current balance:\", self.acc_balance)\n",
    "\n",
    "    def withdraw(self):\n",
    "        self.amount = int(input(\"Withdraw amount: \"))\n",
    "        print(\"Initial balance:\", self.acc_balance)\n",
    "        if self.amount > self.acc_balance:\n",
    "            print(\"You don't have enough balance to withdraw!!\")\n",
    "            print(\"Current balance:\", self.acc_balance)\n",
    "        else:\n",
    "            print(f\"{self.amount} is withdrawn\")\n",
    "            self.acc_balance -= self.amount\n",
    "            print(\"Current balance:\", self.acc_balance)\n",
    "\n",
    "    def acc_info(self):\n",
    "        print(\"Account holder Name:\", self.acc_name)\n",
    "        print(\"Account Number:\", self.acc_no)\n",
    "        print(\"Account Type:\", self.acc_type)\n",
    "        print(\"Account Balance:\", self.acc_balance)\n",
    "\n",
    "name = input(\"Enter name: \")\n",
    "no = int(input(\"Enter account number: \"))\n",
    "type = input(\"Enter account type: \")\n",
    "bal = int(input(\"Enter initial balance: \"))\n",
    "\n",
    "holder = BankAccount(name, no, type, bal)\n",
    "\n",
    "while True:\n",
    "    ch = int(input(\"1. Deposit 2. Withdraw 3. Account info 4. Exit\\nChoose your option: \"))\n",
    "    if ch == 1:\n",
    "        amount = int(input(\"Deposit amount: \"))\n",
    "        holder.deposit(amount)\n",
    "    elif ch == 2:\n",
    "        holder.withdraw()\n",
    "    elif ch == 3:\n",
    "        holder.acc_info()\n",
    "    else:\n",
    "        print(\"Exiting...\")\n",
    "        break"
   ]
  },
  {
   "cell_type": "markdown",
   "id": "07275504-ff18-44d4-86cb-60fa761df1c7",
   "metadata": {},
   "source": [
    " 3. Create a class Rectangle with private attributes length and width. Overload ‘<’ operator to compare the area of 2 rectangles. "
   ]
  },
  {
   "cell_type": "code",
   "execution_count": 7,
   "id": "20613445-179d-475f-bbef-80247fb3991f",
   "metadata": {},
   "outputs": [
    {
     "name": "stdin",
     "output_type": "stream",
     "text": [
      "Enter length of rectangle1:  2\n",
      "Enter width of rectangle1:  4\n",
      "Enter length of rectangle2:  5\n",
      "Enter width of rectangle2:  2\n"
     ]
    },
    {
     "name": "stdout",
     "output_type": "stream",
     "text": [
      "Rectangle 2 is greater\n"
     ]
    }
   ],
   "source": [
    "class Rectangle:\n",
    "    def __init__(self, l, w):\n",
    "        self.length = l\n",
    "        self.width = w\n",
    "        self.area = l * w\n",
    "\n",
    "    def __gt__(self, other):\n",
    "        if self.area > other.area:\n",
    "            print(\"Rectangle 1 is greater\")\n",
    "        else:\n",
    "            print(\"Rectangle 2 is greater\")\n",
    "\n",
    "l1 = int(input(\"Enter length of rectangle1: \"))\n",
    "w1 = int(input(\"Enter width of rectangle1: \"))\n",
    "l2 = int(input(\"Enter length of rectangle2: \"))\n",
    "w2 = int(input(\"Enter width of rectangle2: \"))\n",
    "\n",
    "r1 = Rectangle(l1, w1)\n",
    "r2 = Rectangle(l2, w2)\n",
    "\n",
    "r1 > r2"
   ]
  },
  {
   "cell_type": "markdown",
   "id": "72bd39e9-9826-4301-bab1-8d566c248139",
   "metadata": {},
   "source": [
    "4. Create a class Time with private attributes hour, minute and second. Overload ‘+’ operator to find sum of 2 time. "
   ]
  },
  {
   "cell_type": "code",
   "execution_count": 8,
   "id": "02fc084b-232d-42e0-9a8a-d2ea44bef13c",
   "metadata": {},
   "outputs": [
    {
     "name": "stdin",
     "output_type": "stream",
     "text": [
      "Enter hour1:  3\n",
      "Enter minute1:  12\n",
      "Enter second1:  22\n",
      "Enter hour2:  4\n",
      "Enter minute2:  06\n",
      "Enter second2:  33\n"
     ]
    },
    {
     "name": "stdout",
     "output_type": "stream",
     "text": [
      "Added time..\n",
      "Hour: 7 Minute: 18 Second: 55\n"
     ]
    }
   ],
   "source": [
    "class Time:\n",
    "    def __init__(self, hr, mint, sec):\n",
    "        self.__h = hr\n",
    "        self.__m = mint\n",
    "        self.__s = sec\n",
    "\n",
    "    def __add__(self, other):\n",
    "        hh = self.__h + other.__h\n",
    "        ss = self.__s + other.__s\n",
    "        mm = self.__m + other.__m\n",
    "        if ss >= 60:\n",
    "            m = int(ss / 60)\n",
    "            ss = ss % 60\n",
    "            mm += m\n",
    "        if mm >= 60:\n",
    "            h = int(mm / 60)\n",
    "            mm = mm % 60\n",
    "            hh += h\n",
    "        print(\"Added time..\\nHour:\", hh, \"Minute:\", mm, \"Second:\", ss)\n",
    "\n",
    "h1 = int(input(\"Enter hour1: \"))\n",
    "m1 = int(input(\"Enter minute1: \"))\n",
    "s1 = int(input(\"Enter second1: \"))\n",
    "\n",
    "h2 = int(input(\"Enter hour2: \"))\n",
    "m2 = int(input(\"Enter minute2: \"))\n",
    "s2 = int(input(\"Enter second2: \"))\n",
    "\n",
    "t1 = Time(h1, m1, s1)\n",
    "t2 = Time(h2, m2, s2)\n",
    "t1 + t2"
   ]
  },
  {
   "cell_type": "markdown",
   "id": "c923192f-883b-4b68-9b3a-2b60f689fe99",
   "metadata": {},
   "source": [
    " 5.  Create a class Publisher (name). Derive class Book from Publisher with attributes title and author. Derive class Python from Book with attributes price and no_of_pages. Write a program that displays information about a Python book. Use base class constructor invocation and method overriding."
   ]
  },
  {
   "cell_type": "code",
   "execution_count": 10,
   "id": "3fec8f21-ee46-40c8-914d-f71a9bc67228",
   "metadata": {},
   "outputs": [
    {
     "name": "stdin",
     "output_type": "stream",
     "text": [
      "Enter publisher name:  Shanks\n",
      "Enter book name:  Python Tutorial\n",
      "Enter author name:  Guido van Rossam\n",
      "Enter rate of book:  999.99\n",
      "Enter no. of pages:  780\n"
     ]
    },
    {
     "name": "stdout",
     "output_type": "stream",
     "text": [
      "Book details \n",
      "Publisher name: Shanks\n",
      "Title: Python Tutorial\n",
      "Author: Guido van Rossam\n",
      "Rate: 999.99\n",
      "No. of pages: 780\n"
     ]
    }
   ],
   "source": [
    "class Publisher:\n",
    "    def __init__(self, pname):\n",
    "        self.pubname = pname\n",
    "\n",
    "    def display1(self):\n",
    "        print(\"Book details \\nPublisher name:\", self.pubname)\n",
    "\n",
    "class Book(Publisher):\n",
    "    def __init__(self, pname, bname, author):\n",
    "        super().__init__(pname)\n",
    "        self.title = bname\n",
    "        self.auth = author\n",
    "\n",
    "    def display2(self):\n",
    "        print(\"Title:\", self.title)\n",
    "        print(\"Author:\", self.auth)\n",
    "\n",
    "class Python(Book):\n",
    "    def __init__(self, pname, title, au, price, np):\n",
    "        super().__init__(pname, title, au)\n",
    "        self.rate = price\n",
    "        self.nop = np\n",
    "\n",
    "    def display3(self):\n",
    "        print(\"Rate:\", self.rate)\n",
    "        print(\"No. of pages:\", self.nop)\n",
    "\n",
    "p = input(\"Enter publisher name: \")\n",
    "b = input(\"Enter book name: \")\n",
    "a = input(\"Enter author name: \")\n",
    "r = float(input(\"Enter rate of book: \"))\n",
    "n = int(input(\"Enter no. of pages: \"))\n",
    "book = Python(p, b, a, r, n)\n",
    "book.display1()\n",
    "book.display2()\n",
    "book.display3()"
   ]
  },
  {
   "cell_type": "code",
   "execution_count": null,
   "id": "501ec9f7-8ece-4b67-bae3-a2c2ac895856",
   "metadata": {},
   "outputs": [],
   "source": []
  }
 ],
 "metadata": {
  "kernelspec": {
   "display_name": "Python 3 (ipykernel)",
   "language": "python",
   "name": "python3"
  },
  "language_info": {
   "codemirror_mode": {
    "name": "ipython",
    "version": 3
   },
   "file_extension": ".py",
   "mimetype": "text/x-python",
   "name": "python",
   "nbconvert_exporter": "python",
   "pygments_lexer": "ipython3",
   "version": "3.11.5"
  }
 },
 "nbformat": 4,
 "nbformat_minor": 5
}
